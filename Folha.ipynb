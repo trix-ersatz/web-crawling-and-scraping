{
  "nbformat": 4,
  "nbformat_minor": 0,
  "metadata": {
    "colab": {
      "provenance": [],
      "authorship_tag": "ABX9TyNtEaZu2jQXQq4Lnh+bT+bC"
    },
    "kernelspec": {
      "name": "python3",
      "display_name": "Python 3"
    },
    "language_info": {
      "name": "python"
    }
  },
  "cells": [
    {
      "cell_type": "code",
      "source": [
        "import pandas as pd\n",
        "import json\n",
        "from datetime import datetime\n",
        "from google.cloud import bigquery\n",
        "from google.oauth2 import service_account\n"
      ],
      "metadata": {
        "id": "edfNnnwsf5MT"
      },
      "execution_count": 119,
      "outputs": []
    },
    {
      "cell_type": "code",
      "source": [
        "#@title Service Account Json\n",
        "\n",
        "# Carregue o arquivo JSON com suas credenciais do Google Cloud\n",
        "credentials = service_account.Credentials.from_service_account_info(\n",
        "    json.loads(open(\"projeto-noticias-394817-324ae2c7db36.json\", \"r\").read())\n",
        ")"
      ],
      "metadata": {
        "cellView": "form",
        "id": "6LeL4PqUuA9U"
      },
      "execution_count": 120,
      "outputs": []
    },
    {
      "cell_type": "code",
      "source": [
        "#@title Tratamento do arquivo Json\n",
        "# Carregue o arquivo JSON em uma estrutura de dados Python\n",
        "with open('notices.json', 'r') as json_file:\n",
        "    data = json.load(json_file)"
      ],
      "metadata": {
        "id": "gfgOAao_wlNH"
      },
      "execution_count": 103,
      "outputs": []
    },
    {
      "cell_type": "code",
      "source": [
        "df = pd.DataFrame(data)"
      ],
      "metadata": {
        "id": "VdRHxtrBf9GF"
      },
      "execution_count": 104,
      "outputs": []
    },
    {
      "cell_type": "code",
      "source": [
        "def limpar_string(valor_coluna):\n",
        "    \"\"\"\n",
        "    Função realiza o replace nos valores \"n\\\" que vieram junto com a raspagem\n",
        "    Os valores de 'Date' também vieram com o horário de publicação, a função\n",
        "    realiza um split nessas informações. Ex: '19.jul.2023 às 19h46'\n",
        "    \"\"\"\n",
        "    if isinstance(valor_coluna, str):\n",
        "        if 'às' in valor_coluna:\n",
        "            parte_data, parte_hora = valor_coluna.split('às')\n",
        "            parte_data = parte_data.strip()\n",
        "            # Reconstrói a string sem a parte da hora\n",
        "            string_limpa = f\"{parte_data}\"\n",
        "        else:\n",
        "            # Se não houver 'parte da hora', mantém a string original\n",
        "            string_limpa = valor_coluna\n",
        "        return string_limpa.replace('\\n', '').strip()\n",
        "    else:\n",
        "        return valor_coluna\n"
      ],
      "metadata": {
        "id": "WsbQXFcif_Jw"
      },
      "execution_count": 121,
      "outputs": []
    },
    {
      "cell_type": "code",
      "source": [
        "# Aplica a função limpar_string nas colunas 'title', 'date' e 'newspaper_section'\n",
        "df['title'] = df['title'].apply(limpar_string)\n",
        "df['date'] = df['date'].apply(limpar_string)\n",
        "df['newspaper_section'] = df['newspaper_section'].apply(limpar_string)"
      ],
      "metadata": {
        "id": "xDyMVea6gD_y"
      },
      "execution_count": 122,
      "outputs": []
    },
    {
      "cell_type": "code",
      "source": [
        "def converter_format_date(date_str):\n",
        "    \"\"\"\n",
        "    Função altera valores de meses abreviados na coluna 'Date' para\n",
        "    os números respectivos de cada mês e também converte o formato.\n",
        "    \"\"\"\n",
        "    try:\n",
        "        meses_str = [\n",
        "            'jan', 'fev', 'mar', 'abr', 'mai', 'jun',\n",
        "            'jul', 'ago', 'set', 'out', 'nov', 'dez'\n",
        "        ]\n",
        "\n",
        "        date_obj = datetime.strptime(date_str, '%d.%b.%Y')\n",
        "        meses_str = date_str.split('.')[1].lower()\n",
        "        numero_mes = meses_str.index(meses_str)\n",
        "        date = date_obj.replace(month=numero_mes).strftime('%Y-%m-%d')\n",
        "        return date\n",
        "    except:\n",
        "        return date_str\n"
      ],
      "metadata": {
        "id": "x8deStLngH2C"
      },
      "execution_count": 123,
      "outputs": []
    },
    {
      "cell_type": "code",
      "source": [
        "# Aplica a função de conversão na coluna 'date'\n",
        "df['date'] = df['date'].apply(converter_format_date)"
      ],
      "metadata": {
        "id": "Z9psp_0WgKQ2"
      },
      "execution_count": 124,
      "outputs": []
    },
    {
      "cell_type": "code",
      "source": [
        "df.head()"
      ],
      "metadata": {
        "id": "S4UVV3cqZuPl"
      },
      "execution_count": null,
      "outputs": []
    },
    {
      "cell_type": "code",
      "source": [
        "#@title Parte do código onde os valores são lançados no Big Query\n",
        "\n",
        "# Substitua project_id pelo ID do seu projeto no Google Cloud\n",
        "project_id = 'projeto-noticias-394817'\n"
      ],
      "metadata": {
        "id": "1ASJp4wknILx"
      },
      "execution_count": 126,
      "outputs": []
    },
    {
      "cell_type": "code",
      "source": [
        "# Substitua dataset_id pelo ID do conjunto de dados que você deseja usar\n",
        "dataset_id = 'noticias'"
      ],
      "metadata": {
        "id": "tB2MCIisnNf4"
      },
      "execution_count": 113,
      "outputs": []
    },
    {
      "cell_type": "code",
      "source": [
        "# Substitua table_id pelo ID da tabela que você deseja usar\n",
        "table_id = 'folha'"
      ],
      "metadata": {
        "id": "Ac1VFzUWnTHp"
      },
      "execution_count": 114,
      "outputs": []
    },
    {
      "cell_type": "code",
      "source": [
        "# Envia o DataFrame para o BigQuery\n",
        "client = bigquery.Client(project=project_id, credentials=credentials)\n",
        "table_id = f\"{project_id}.{dataset_id}.{table_id}\""
      ],
      "metadata": {
        "id": "m9tH4NdhnYFu"
      },
      "execution_count": 115,
      "outputs": []
    },
    {
      "cell_type": "code",
      "source": [
        "job_config = bigquery.LoadJobConfig(\n",
        "    schema=[\n",
        "        bigquery.SchemaField(\"link\", \"STRING\"),\n",
        "        bigquery.SchemaField(\"title\", \"STRING\"),\n",
        "        bigquery.SchemaField(\"date\", \"STRING\"),\n",
        "        bigquery.SchemaField(\"newspaper_section\", \"STRING\"),\n",
        "    ],\n",
        "    write_disposition=\"WRITE_TRUNCATE\",  # Modo de escrita: WRITE_TRUNCATE irá substituir a tabela existente\n",
        ")\n"
      ],
      "metadata": {
        "id": "2bP5TVjSneeB"
      },
      "execution_count": 116,
      "outputs": []
    },
    {
      "cell_type": "code",
      "source": [
        "# Carrega os dados para o BigQuery\n",
        "job = client.load_table_from_dataframe(df, table_id, job_config=job_config)"
      ],
      "metadata": {
        "id": "ViNgRd9UnemR"
      },
      "execution_count": 117,
      "outputs": []
    },
    {
      "cell_type": "code",
      "source": [
        "job.result()  # Aguarda a conclusão do job\n",
        "print(f\"Os dados foram enviados para a tabela: {table_id}\")"
      ],
      "metadata": {
        "colab": {
          "base_uri": "https://localhost:8080/"
        },
        "id": "Y7_gQMTwnlaQ",
        "outputId": "f2c79142-63d0-460b-8ac4-317c4f9a5a54"
      },
      "execution_count": 118,
      "outputs": [
        {
          "output_type": "stream",
          "name": "stdout",
          "text": [
            "Os dados foram enviados para a tabela: projeto-noticias-394817.noticias.folha\n"
          ]
        }
      ]
    }
  ]
}