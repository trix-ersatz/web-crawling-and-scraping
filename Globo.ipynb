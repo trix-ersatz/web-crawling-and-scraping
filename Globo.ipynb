{
  "nbformat": 4,
  "nbformat_minor": 0,
  "metadata": {
    "colab": {
      "provenance": [],
      "authorship_tag": "ABX9TyPNk1rH4cqwztixNEHU7Jx6"
    },
    "kernelspec": {
      "name": "python3",
      "display_name": "Python 3"
    },
    "language_info": {
      "name": "python"
    }
  },
  "cells": [
    {
      "cell_type": "code",
      "source": [
        "import pandas as pd\n",
        "import json\n",
        "from datetime import datetime\n",
        "from google.cloud import bigquery\n",
        "from google.oauth2 import service_account"
      ],
      "metadata": {
        "id": "Dx1CZZiddzo4"
      },
      "execution_count": 1,
      "outputs": []
    },
    {
      "cell_type": "code",
      "source": [
        "#@title Service Account Json\n",
        "\n",
        "# Carregue o arquivo JSON com suas credenciais do Google Cloud\n",
        "credentials = service_account.Credentials.from_service_account_info(\n",
        "    json.loads(open(\"projeto-noticias-394817-324ae2c7db36.json\", \"r\").read())\n",
        ")"
      ],
      "metadata": {
        "cellView": "form",
        "id": "kcae63fFd0bg"
      },
      "execution_count": 2,
      "outputs": []
    },
    {
      "cell_type": "code",
      "source": [
        "#@title Tratamento do arquivo Json\n",
        "# Carregue o arquivo JSON em uma estrutura de dados Python\n",
        "with open('notices_globo.json', 'r') as json_file:\n",
        "    data = json.load(json_file)"
      ],
      "metadata": {
        "cellView": "form",
        "id": "NVVi4tdPd8hk"
      },
      "execution_count": 3,
      "outputs": []
    },
    {
      "cell_type": "code",
      "source": [
        "df = pd.DataFrame(data)"
      ],
      "metadata": {
        "id": "vpAteFnobPjW"
      },
      "execution_count": 4,
      "outputs": []
    },
    {
      "cell_type": "code",
      "source": [
        "def limpar_string(valor_coluna):\n",
        "    \"\"\"\n",
        "    Função realiza o replace nos valores \"n\\\" que vieram junto com a raspagem\n",
        "    Os valores de 'Date' também vieram com o horário de publicação, a função\n",
        "    realiza um split nessas informações. Ex: '19.jul.2023 às 19h46'\n",
        "    \"\"\"\n",
        "    if isinstance(valor_coluna, str):\n",
        "        if 'às' in valor_coluna:\n",
        "            parte_data, parte_hora = valor_coluna.split('às')\n",
        "            parte_data = parte_data.strip()\n",
        "            # Reconstrói a string sem a parte da hora\n",
        "            string_limpa = f\"{parte_data}\"\n",
        "        else:\n",
        "            # Se não houver 'parte da hora', mantém a string original\n",
        "            string_limpa = valor_coluna\n",
        "        return string_limpa.replace('\\n', '').strip()\n",
        "    else:\n",
        "        return valor_coluna\n"
      ],
      "metadata": {
        "id": "36YcBQu-eJmC"
      },
      "execution_count": 5,
      "outputs": []
    },
    {
      "cell_type": "code",
      "source": [
        "# Aplica a função limpar_string nas colunas 'title', 'date' e 'newspaper_section'\n",
        "df['title'] = df['title'].apply(limpar_string)\n",
        "df['date'] = df['date'].apply(limpar_string)\n",
        "df['newspaper_section'] = df['newspaper_section'].apply(limpar_string)\n",
        "df['subtitle'] = df['subtitle'].apply(limpar_string)"
      ],
      "metadata": {
        "id": "OAsM1mHjeOZO"
      },
      "execution_count": 6,
      "outputs": []
    },
    {
      "cell_type": "code",
      "source": [
        "def converter_format_date(date_str):\n",
        "    \"\"\"\n",
        "    Função altera valores de meses abreviados na coluna 'Date' para\n",
        "    os números respectivos de cada mês e também converte o formato.\n",
        "    \"\"\"\n",
        "    try:\n",
        "        meses_str = [\n",
        "            'jan', 'fev', 'mar', 'abr', 'mai', 'jun',\n",
        "            'jul', 'ago', 'set', 'out', 'nov', 'dez'\n",
        "        ]\n",
        "\n",
        "        date_obj = datetime.strptime(date_str, '%d.%b.%Y')\n",
        "        meses_str = date_str.split('.')[1].lower()\n",
        "        numero_mes = meses_str.index(meses_str)\n",
        "        date = date_obj.replace(month=numero_mes).strftime('%Y-%m-%d')\n",
        "        return date\n",
        "    except:\n",
        "        return date_str"
      ],
      "metadata": {
        "id": "c71BoSPZfXTR"
      },
      "execution_count": 7,
      "outputs": []
    },
    {
      "cell_type": "code",
      "source": [
        "# Aplica a função de conversão na coluna 'date'\n",
        "df['date'] = df['date'].apply(converter_format_date)"
      ],
      "metadata": {
        "id": "mCYToRgEeblk"
      },
      "execution_count": 8,
      "outputs": []
    },
    {
      "cell_type": "code",
      "source": [
        "df.head()"
      ],
      "metadata": {
        "colab": {
          "base_uri": "https://localhost:8080/",
          "height": 337
        },
        "id": "R5kXzJx-d9tf",
        "outputId": "22587e9e-84b0-430b-fc3b-13607fb302c0"
      },
      "execution_count": 9,
      "outputs": [
        {
          "output_type": "execute_result",
          "data": {
            "text/plain": [
              "                                                link  \\\n",
              "0  //www.globo.com/busca/click?q=Seguran%C3%A7a+d...   \n",
              "1  //www.globo.com/busca/click?q=Seguran%C3%A7a+d...   \n",
              "2  //www.globo.com/busca/click?q=Seguran%C3%A7a+d...   \n",
              "3  //www.globo.com/busca/click?q=Seguran%C3%A7a+d...   \n",
              "4  //www.globo.com/busca/click?q=Seguran%C3%A7a+d...   \n",
              "\n",
              "                                               title              date  \\\n",
              "0  Chefe de segurança da informação do Twitter de...  10/11/2022 17h37   \n",
              "1  Segurança da informação: o que é e como se tor...  23/09/2022 10h01   \n",
              "2  A segurança da informação em tempos de home of...  09/06/2022 17h11   \n",
              "3  FICE 2021: Para aumentar segurança da informaç...  22/10/2021 15h47   \n",
              "4  FICE 2021: Para aumentar segurança da informaç...  14/10/2021 21h04   \n",
              "\n",
              "                      newspaper_section  \\\n",
              "0                         epocanegocios   \n",
              "1                                  None   \n",
              "2                            Rede Globo   \n",
              "3  Pequenas Empresas e Grandes Negócios   \n",
              "4                        Época Negócios   \n",
              "\n",
              "                                            subtitle  \n",
              "0  Lea Kissner anuniou a saída do TwitterReproduç...  \n",
              "1  Realizar a proteção de dados na internet é um ...  \n",
              "2           .... Entretanto, com aumento de troca de  \n",
              "3                                             ... de  \n",
              "4  ... usada pela holandesa Jaya Baloo, diretora ...  "
            ],
            "text/html": [
              "\n",
              "\n",
              "  <div id=\"df-5afa5cd1-4d21-45c5-8672-ede029c37dc2\">\n",
              "    <div class=\"colab-df-container\">\n",
              "      <div>\n",
              "<style scoped>\n",
              "    .dataframe tbody tr th:only-of-type {\n",
              "        vertical-align: middle;\n",
              "    }\n",
              "\n",
              "    .dataframe tbody tr th {\n",
              "        vertical-align: top;\n",
              "    }\n",
              "\n",
              "    .dataframe thead th {\n",
              "        text-align: right;\n",
              "    }\n",
              "</style>\n",
              "<table border=\"1\" class=\"dataframe\">\n",
              "  <thead>\n",
              "    <tr style=\"text-align: right;\">\n",
              "      <th></th>\n",
              "      <th>link</th>\n",
              "      <th>title</th>\n",
              "      <th>date</th>\n",
              "      <th>newspaper_section</th>\n",
              "      <th>subtitle</th>\n",
              "    </tr>\n",
              "  </thead>\n",
              "  <tbody>\n",
              "    <tr>\n",
              "      <th>0</th>\n",
              "      <td>//www.globo.com/busca/click?q=Seguran%C3%A7a+d...</td>\n",
              "      <td>Chefe de segurança da informação do Twitter de...</td>\n",
              "      <td>10/11/2022 17h37</td>\n",
              "      <td>epocanegocios</td>\n",
              "      <td>Lea Kissner anuniou a saída do TwitterReproduç...</td>\n",
              "    </tr>\n",
              "    <tr>\n",
              "      <th>1</th>\n",
              "      <td>//www.globo.com/busca/click?q=Seguran%C3%A7a+d...</td>\n",
              "      <td>Segurança da informação: o que é e como se tor...</td>\n",
              "      <td>23/09/2022 10h01</td>\n",
              "      <td>None</td>\n",
              "      <td>Realizar a proteção de dados na internet é um ...</td>\n",
              "    </tr>\n",
              "    <tr>\n",
              "      <th>2</th>\n",
              "      <td>//www.globo.com/busca/click?q=Seguran%C3%A7a+d...</td>\n",
              "      <td>A segurança da informação em tempos de home of...</td>\n",
              "      <td>09/06/2022 17h11</td>\n",
              "      <td>Rede Globo</td>\n",
              "      <td>.... Entretanto, com aumento de troca de</td>\n",
              "    </tr>\n",
              "    <tr>\n",
              "      <th>3</th>\n",
              "      <td>//www.globo.com/busca/click?q=Seguran%C3%A7a+d...</td>\n",
              "      <td>FICE 2021: Para aumentar segurança da informaç...</td>\n",
              "      <td>22/10/2021 15h47</td>\n",
              "      <td>Pequenas Empresas e Grandes Negócios</td>\n",
              "      <td>... de</td>\n",
              "    </tr>\n",
              "    <tr>\n",
              "      <th>4</th>\n",
              "      <td>//www.globo.com/busca/click?q=Seguran%C3%A7a+d...</td>\n",
              "      <td>FICE 2021: Para aumentar segurança da informaç...</td>\n",
              "      <td>14/10/2021 21h04</td>\n",
              "      <td>Época Negócios</td>\n",
              "      <td>... usada pela holandesa Jaya Baloo, diretora ...</td>\n",
              "    </tr>\n",
              "  </tbody>\n",
              "</table>\n",
              "</div>\n",
              "      <button class=\"colab-df-convert\" onclick=\"convertToInteractive('df-5afa5cd1-4d21-45c5-8672-ede029c37dc2')\"\n",
              "              title=\"Convert this dataframe to an interactive table.\"\n",
              "              style=\"display:none;\">\n",
              "\n",
              "  <svg xmlns=\"http://www.w3.org/2000/svg\" height=\"24px\"viewBox=\"0 0 24 24\"\n",
              "       width=\"24px\">\n",
              "    <path d=\"M0 0h24v24H0V0z\" fill=\"none\"/>\n",
              "    <path d=\"M18.56 5.44l.94 2.06.94-2.06 2.06-.94-2.06-.94-.94-2.06-.94 2.06-2.06.94zm-11 1L8.5 8.5l.94-2.06 2.06-.94-2.06-.94L8.5 2.5l-.94 2.06-2.06.94zm10 10l.94 2.06.94-2.06 2.06-.94-2.06-.94-.94-2.06-.94 2.06-2.06.94z\"/><path d=\"M17.41 7.96l-1.37-1.37c-.4-.4-.92-.59-1.43-.59-.52 0-1.04.2-1.43.59L10.3 9.45l-7.72 7.72c-.78.78-.78 2.05 0 2.83L4 21.41c.39.39.9.59 1.41.59.51 0 1.02-.2 1.41-.59l7.78-7.78 2.81-2.81c.8-.78.8-2.07 0-2.86zM5.41 20L4 18.59l7.72-7.72 1.47 1.35L5.41 20z\"/>\n",
              "  </svg>\n",
              "      </button>\n",
              "\n",
              "\n",
              "\n",
              "    <div id=\"df-52fcdd59-df0f-4f5e-a296-974196ddb669\">\n",
              "      <button class=\"colab-df-quickchart\" onclick=\"quickchart('df-52fcdd59-df0f-4f5e-a296-974196ddb669')\"\n",
              "              title=\"Suggest charts.\"\n",
              "              style=\"display:none;\">\n",
              "\n",
              "<svg xmlns=\"http://www.w3.org/2000/svg\" height=\"24px\"viewBox=\"0 0 24 24\"\n",
              "     width=\"24px\">\n",
              "    <g>\n",
              "        <path d=\"M19 3H5c-1.1 0-2 .9-2 2v14c0 1.1.9 2 2 2h14c1.1 0 2-.9 2-2V5c0-1.1-.9-2-2-2zM9 17H7v-7h2v7zm4 0h-2V7h2v10zm4 0h-2v-4h2v4z\"/>\n",
              "    </g>\n",
              "</svg>\n",
              "      </button>\n",
              "    </div>\n",
              "\n",
              "<style>\n",
              "  .colab-df-quickchart {\n",
              "    background-color: #E8F0FE;\n",
              "    border: none;\n",
              "    border-radius: 50%;\n",
              "    cursor: pointer;\n",
              "    display: none;\n",
              "    fill: #1967D2;\n",
              "    height: 32px;\n",
              "    padding: 0 0 0 0;\n",
              "    width: 32px;\n",
              "  }\n",
              "\n",
              "  .colab-df-quickchart:hover {\n",
              "    background-color: #E2EBFA;\n",
              "    box-shadow: 0px 1px 2px rgba(60, 64, 67, 0.3), 0px 1px 3px 1px rgba(60, 64, 67, 0.15);\n",
              "    fill: #174EA6;\n",
              "  }\n",
              "\n",
              "  [theme=dark] .colab-df-quickchart {\n",
              "    background-color: #3B4455;\n",
              "    fill: #D2E3FC;\n",
              "  }\n",
              "\n",
              "  [theme=dark] .colab-df-quickchart:hover {\n",
              "    background-color: #434B5C;\n",
              "    box-shadow: 0px 1px 3px 1px rgba(0, 0, 0, 0.15);\n",
              "    filter: drop-shadow(0px 1px 2px rgba(0, 0, 0, 0.3));\n",
              "    fill: #FFFFFF;\n",
              "  }\n",
              "</style>\n",
              "\n",
              "    <script>\n",
              "      async function quickchart(key) {\n",
              "        const containerElement = document.querySelector('#' + key);\n",
              "        const charts = await google.colab.kernel.invokeFunction(\n",
              "            'suggestCharts', [key], {});\n",
              "      }\n",
              "    </script>\n",
              "\n",
              "      <script>\n",
              "\n",
              "function displayQuickchartButton(domScope) {\n",
              "  let quickchartButtonEl =\n",
              "    domScope.querySelector('#df-52fcdd59-df0f-4f5e-a296-974196ddb669 button.colab-df-quickchart');\n",
              "  quickchartButtonEl.style.display =\n",
              "    google.colab.kernel.accessAllowed ? 'block' : 'none';\n",
              "}\n",
              "\n",
              "        displayQuickchartButton(document);\n",
              "      </script>\n",
              "      <style>\n",
              "    .colab-df-container {\n",
              "      display:flex;\n",
              "      flex-wrap:wrap;\n",
              "      gap: 12px;\n",
              "    }\n",
              "\n",
              "    .colab-df-convert {\n",
              "      background-color: #E8F0FE;\n",
              "      border: none;\n",
              "      border-radius: 50%;\n",
              "      cursor: pointer;\n",
              "      display: none;\n",
              "      fill: #1967D2;\n",
              "      height: 32px;\n",
              "      padding: 0 0 0 0;\n",
              "      width: 32px;\n",
              "    }\n",
              "\n",
              "    .colab-df-convert:hover {\n",
              "      background-color: #E2EBFA;\n",
              "      box-shadow: 0px 1px 2px rgba(60, 64, 67, 0.3), 0px 1px 3px 1px rgba(60, 64, 67, 0.15);\n",
              "      fill: #174EA6;\n",
              "    }\n",
              "\n",
              "    [theme=dark] .colab-df-convert {\n",
              "      background-color: #3B4455;\n",
              "      fill: #D2E3FC;\n",
              "    }\n",
              "\n",
              "    [theme=dark] .colab-df-convert:hover {\n",
              "      background-color: #434B5C;\n",
              "      box-shadow: 0px 1px 3px 1px rgba(0, 0, 0, 0.15);\n",
              "      filter: drop-shadow(0px 1px 2px rgba(0, 0, 0, 0.3));\n",
              "      fill: #FFFFFF;\n",
              "    }\n",
              "  </style>\n",
              "\n",
              "      <script>\n",
              "        const buttonEl =\n",
              "          document.querySelector('#df-5afa5cd1-4d21-45c5-8672-ede029c37dc2 button.colab-df-convert');\n",
              "        buttonEl.style.display =\n",
              "          google.colab.kernel.accessAllowed ? 'block' : 'none';\n",
              "\n",
              "        async function convertToInteractive(key) {\n",
              "          const element = document.querySelector('#df-5afa5cd1-4d21-45c5-8672-ede029c37dc2');\n",
              "          const dataTable =\n",
              "            await google.colab.kernel.invokeFunction('convertToInteractive',\n",
              "                                                     [key], {});\n",
              "          if (!dataTable) return;\n",
              "\n",
              "          const docLinkHtml = 'Like what you see? Visit the ' +\n",
              "            '<a target=\"_blank\" href=https://colab.research.google.com/notebooks/data_table.ipynb>data table notebook</a>'\n",
              "            + ' to learn more about interactive tables.';\n",
              "          element.innerHTML = '';\n",
              "          dataTable['output_type'] = 'display_data';\n",
              "          await google.colab.output.renderOutput(dataTable, element);\n",
              "          const docLink = document.createElement('div');\n",
              "          docLink.innerHTML = docLinkHtml;\n",
              "          element.appendChild(docLink);\n",
              "        }\n",
              "      </script>\n",
              "    </div>\n",
              "  </div>\n"
            ]
          },
          "metadata": {},
          "execution_count": 9
        }
      ]
    },
    {
      "cell_type": "code",
      "source": [
        "#@title Parte do código onde os valores são lançados no Big Query\n",
        "\n",
        "# Substitua project_id pelo ID do seu projeto no Google Cloud\n",
        "project_id = 'projeto-noticias-394817'"
      ],
      "metadata": {
        "id": "6pmZ-zqViHaY"
      },
      "execution_count": 10,
      "outputs": []
    },
    {
      "cell_type": "code",
      "source": [
        "# Substitua dataset_id pelo ID do conjunto de dados que você deseja usar\n",
        "dataset_id = 'noticias'\n"
      ],
      "metadata": {
        "id": "e1Kr0IA7iUvP"
      },
      "execution_count": 11,
      "outputs": []
    },
    {
      "cell_type": "code",
      "source": [
        "# Substitua table_id pelo ID da tabela que você deseja usar\n",
        "table_id = 'globo'"
      ],
      "metadata": {
        "id": "G8vGIR6_bst3"
      },
      "execution_count": 12,
      "outputs": []
    },
    {
      "cell_type": "code",
      "source": [
        "# Envia o DataFrame para o BigQuery\n",
        "client = bigquery.Client(project=project_id, credentials=credentials)\n",
        "table_id = f\"{project_id}.{dataset_id}.{table_id}\""
      ],
      "metadata": {
        "id": "mljfAZQTbu6M"
      },
      "execution_count": 13,
      "outputs": []
    },
    {
      "cell_type": "code",
      "source": [
        "job_config = bigquery.LoadJobConfig(\n",
        "    schema=[\n",
        "        bigquery.SchemaField(\"link\", \"STRING\"),\n",
        "        bigquery.SchemaField(\"title\", \"STRING\"),\n",
        "        bigquery.SchemaField(\"date\", \"STRING\"),\n",
        "        bigquery.SchemaField(\"newspaper_section\", \"STRING\"),\n",
        "        bigquery.SchemaField(\"subtitle\", \"STRING\"),\n",
        "    ],\n",
        "    write_disposition=\"WRITE_TRUNCATE\",  # Modo de escrita: WRITE_TRUNCATE irá substituir a tabela existente\n",
        ")"
      ],
      "metadata": {
        "id": "OvWliDQhbxZJ"
      },
      "execution_count": 14,
      "outputs": []
    },
    {
      "cell_type": "code",
      "source": [
        "# Carrega os dados para o BigQuery\n",
        "job = client.load_table_from_dataframe(df, table_id, job_config=job_config)"
      ],
      "metadata": {
        "id": "XRlcjBg7bzZX"
      },
      "execution_count": 15,
      "outputs": []
    },
    {
      "cell_type": "code",
      "source": [
        "job.result()  # Aguarda a conclusão do job\n",
        "print(f\"Os dados foram enviados para a tabela: {table_id}\")"
      ],
      "metadata": {
        "colab": {
          "base_uri": "https://localhost:8080/"
        },
        "id": "am8SnHK0b1FN",
        "outputId": "dd5422e0-8a11-4f2d-9d58-2c478cc63195"
      },
      "execution_count": 16,
      "outputs": [
        {
          "output_type": "stream",
          "name": "stdout",
          "text": [
            "Os dados foram enviados para a tabela: projeto-noticias-394817.noticias.globo\n"
          ]
        }
      ]
    }
  ]
}